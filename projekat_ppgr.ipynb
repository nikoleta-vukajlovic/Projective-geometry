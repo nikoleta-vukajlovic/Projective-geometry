{
 "cells": [
  
  {
   "cell_type": "code",
   "execution_count": 1,
   "metadata": {},
   "outputs": [],
   "source": [
    "import numpy as np\n",
    "from functools import reduce\n",
    "import math\n",
    "import copy\n",
    "from PIL import Image"

   ]
  },
  {
   "cell_type": "code",
   "execution_count": 2,
   "metadata": {},
   "outputs": [],
   "source": [
    "def resi_sistem(a, b, c, d):\n",
    "    a = np.array([[a[0], b[0], c[0]],\n",
    "                  [a[1], b[1], c[1]],\n",
    "                  [a[2], b[2], c[2]]])\n",
    "    b = np.array([d[0], d[1], d[2]])\n",
    "    return np.linalg.solve(a, b)"
   ]
  },
  {
   "cell_type": "code",
   "execution_count": 3,
   "metadata": {},
   "outputs": [],
   "source": [
    "a = [-3, -1, 1]\n",
    "b = [3, -1, 1]\n",
    "c = [1, 1, 1]\n",
    "d = [-1, 1, 1]\n",
    "ap = [-2, -1, 1]\n",
    "bp = [2, -1, 1]\n",
    "cp = [2, 1, 1]\n",
    "dp = [-2, 1, 1]\n",
    "tacke = [a, b, c, d]\n",
    "tacke_p = [ap, bp, cp, dp]"
   ]
  },
  {
   "cell_type": "code",
   "execution_count": 4,
   "metadata": {},
   "outputs": [
    {
     "data": {
      "text/plain": [
       "array([ 0.33333333, -0.33333333,  1.        ])"
      ]
     },
     "execution_count": 4,
     "metadata": {},
     "output_type": "execute_result"
    }
   ],
   "source": [
    "resi_sistem(a, b, c, d)"
   ]
  },
  {
   "cell_type": "code",
   "execution_count": 5,
   "metadata": {},
   "outputs": [],
   "source": [
    "def naivni_algoritam(tacke, tacke_p):\n",
    "    a, b, c, d = tacke\n",
    "    ap, bp, cp, dp = tacke_p\n",
    "    \n",
    "    #dobijamo parametre resavanjem sistema jednacina \n",
    "    #tako da je D = alpha * A + beta * B + gama * D\n",
    "    params = resi_sistem(a, b, c, d)\n",
    "    alfa, beta, gama = params\n",
    "    \n",
    "    #matrica sa kolonama alfa * A, beta * B, gama * C\n",
    "    P1 = np.array([[alfa*a[0], beta*b[0], gama*c[0]],\n",
    "                   [alfa*a[1], beta*b[1], gama*c[1]],\n",
    "                   [alfa *a[2], beta*b[2], gama*c[2]]])\n",
    "    \n",
    "    #isti postupak i za tacke koje predstavljaju slike\n",
    "    params_p = resi_sistem(ap, bp, cp, dp)\n",
    "    alfa_p, beta_p, gama_p = params_p\n",
    "    \n",
    "    P2 = np.array([[alfa_p*ap[0], beta_p*bp[0], gama_p*cp[0]],\n",
    "                   [alfa_p*ap[1], beta_p*bp[1], gama_p*cp[1]],\n",
    "                   [alfa_p*ap[2], beta_p*bp[2], gama_p*cp[2]]])\n",
    "    \n",
    "    #matrica preslikavanja P = P2 * P1 ^ -1\n",
    "    P = np.dot(P2, np.linalg.inv(P1))\n",
    "    return P"
   ]
  },
  {
   "cell_type": "code",
   "execution_count": 6,
   "metadata": {},
   "outputs": [],
   "source": [
    "a = [-3, -1, 1]\n",
    "b = [3, -1, 1]\n",
    "c = [1, 1, 1]\n",
    "d = [-1, 1, 1]\n",
    "ap = [-2, -1, 1]\n",
    "bp = [2, -1, 1]\n",
    "cp = [2, 1, 1]\n",
    "dp = [-2, 1, 1]\n",
    "tacke = [a, b, c, d]\n",
    "tacke_p = [ap, bp, cp, dp]"
   ]
  },
  {
   "cell_type": "code",
   "execution_count": 7,
   "metadata": {},
   "outputs": [
    {
     "name": "stdout",
     "output_type": "stream",
     "text": [
      "Naivni algoritam:\n",
      "[[ 2.00000000e+00 -6.66133815e-16  6.66133815e-16]\n",
      " [-4.44089210e-16  2.00000000e+00 -1.00000000e+00]\n",
      " [ 4.44089210e-16 -1.00000000e+00  2.00000000e+00]]\n",
      "Zaokruzeno na 5 decimala:\n",
      "[[ 2. -0.  0.]\n",
      " [-0.  2. -1.]\n",
      " [ 0. -1.  2.]]\n"
     ]
    }
   ],
   "source": [
    "P = naivni_algoritam(tacke, tacke_p)\n",
    "print('Naivni algoritam:')\n",
    "print(P)\n",
    "print('Zaokruzeno na 5 decimala:')\n",
    "print(np.around(P, 5))"
   ]
  },
  {
   "cell_type": "code",
   "execution_count": 8,
   "metadata": {},
   "outputs": [],
   "source": [
    "def napravi_matricu_2x9(t, tp):\n",
    "    return np.matrix(\n",
    "        [[0, 0, 0, -tp[2]*t[0], -tp[2]*t[1], -tp[2]*t[2], tp[1]*t[0], tp[1]*t[1], tp[1]*t[2]],\n",
    "         [tp[2]*t[0], tp[2]*t[1], tp[2]*t[2], 0, 0, 0, -tp[0]*t[0], -tp[0]*t[1], -tp[0]*t[2]]])"
   ]
  },
  {
   "cell_type": "code",
   "execution_count": 9,
   "metadata": {},
   "outputs": [],
   "source": [
    "def dlt_algoritam(tacke, tacke_p):\n",
    "    n = len(tacke)\n",
    "    \n",
    "    #za svaku tacku originala i njenu sliku odredjujemo 2x9 matricu \n",
    "    #i spajamo te matrice u jednu 2nx9 matricu\n",
    "    A = napravi_matricu_2x9(tacke[0], tacke_p[0])\n",
    "    \n",
    "    for i in range(1, n):\n",
    "        matrica = napravi_matricu_2x9(tacke[i], tacke_p[i])\n",
    "        A = np.concatenate((A, matrica), axis = 0)\n",
    "    \n",
    "    #odredjujemo SVD dekompoziciju matrice A, A = U*D*V^T, koja minimizuje \n",
    "    #odredjenu statisticku ili geometrijsku gresku\n",
    "    U, D, V = np.linalg.svd(A)\n",
    "\n",
    "    #trazeno preslikavanje je poslednja kolona matrice V\n",
    "    V = np.transpose(V)\n",
    "    P = V[:,-1].reshape(3, 3)\n",
    "\n",
    "    return np.array(P)"
   ]
  },
  {
   "cell_type": "code",
   "execution_count": 10,
   "metadata": {},
   "outputs": [
    {
     "name": "stdout",
     "output_type": "stream",
     "text": [
      "Naivni algoritam:\n",
      "[[ 2.00000000e+00 -6.66133815e-16  6.66133815e-16]\n",
      " [-4.44089210e-16  2.00000000e+00 -1.00000000e+00]\n",
      " [ 4.44089210e-16 -1.00000000e+00  2.00000000e+00]]\n",
      "Naivni zaokruzen na 5 decimala:\n",
      "[[ 2. -0.  0.]\n",
      " [-0.  2. -1.]\n",
      " [ 0. -1.  2.]]\n",
      "Dlt algoritam:\n",
      "[[ 5.34522484e-01  6.18413875e-17 -2.58635702e-16]\n",
      " [-5.55111512e-17  5.34522484e-01 -2.67261242e-01]\n",
      " [-5.55111512e-17 -2.67261242e-01  5.34522484e-01]]\n",
      "Dlt zaokruzena na 5 decimala:\n",
      "[[ 0.53452  0.      -0.     ]\n",
      " [-0.       0.53452 -0.26726]\n",
      " [-0.      -0.26726  0.53452]]\n",
      "Poredimo da li dobijamo proporcionalne matrice:\n",
      "[[ 2.  0. -0.]\n",
      " [-0.  2. -1.]\n",
      " [-0. -1.  2.]]\n"
     ]
    }
   ],
   "source": [
    "#provaeravamo za 4 korespodencije\n",
    "Pnaive = naivni_algoritam(tacke, tacke_p)\n",
    "Pdlt = dlt_algoritam(tacke, tacke_p)\n",
    "print('Naivni algoritam:')\n",
    "print(Pnaive)\n",
    "print('Naivni zaokruzen na 5 decimala:')\n",
    "print(np.around(Pnaive, 5))\n",
    "print('Dlt algoritam:')\n",
    "print(Pdlt)\n",
    "print('Dlt zaokruzena na 5 decimala:')\n",
    "print(np.around(Pdlt, 5))\n",
    "print('Poredimo da li dobijamo proporcionalne matrice:')\n",
    "print(np.around(Pdlt / Pdlt[1, 1] * Pnaive[1, 1], 5))"
   ]
  },
  {
   "cell_type": "code",
   "execution_count": 11,
   "metadata": {},
   "outputs": [
    {
     "name": "stdout",
     "output_type": "stream",
     "text": [
      "Matrica dobijena DLT algoritmom:\n",
      "[[-5.34522484e-01  1.41553436e-15 -1.12323345e-15]\n",
      " [ 3.60822483e-16 -5.34522484e-01  2.67261242e-01]\n",
      " [-2.35922393e-16  2.67261242e-01 -5.34522484e-01]]\n",
      "Dlt zaokruzen na 5 decimala:\n",
      "[[-0.53452  0.      -0.     ]\n",
      " [ 0.      -0.53452  0.26726]\n",
      " [-0.       0.26726 -0.53452]]\n",
      "Da li dobijamo proporcionalne matrice:\n",
      "[[ 2. -0.  0.]\n",
      " [-0.  2. -1.]\n",
      " [ 0. -1.  2.]]\n"
     ]
    }
   ],
   "source": [
    "Pnaive = naivni_algoritam(tacke, tacke_p)\n",
    "#proveravamo za 6 korespodencija\n",
    "e = [1, 2, 3]\n",
    "f = [-8, -2, 1]\n",
    "ep = [2, 1, 4]\n",
    "fp = [-16, -5, 4]\n",
    "tacke = [a, b, c, d, e, f]\n",
    "tacke_p = [ap, bp, cp, dp, ep, fp]\n",
    "P = dlt_algoritam(tacke, tacke_p)\n",
    "print('Matrica dobijena DLT algoritmom:')\n",
    "print(P)\n",
    "print('Dlt zaokruzen na 5 decimala:')\n",
    "print(np.around(P, 5))\n",
    "#proveravamo da li su matrice dobijene dlt algoritmom\n",
    "#i naivnim algoritmom proprocionalne\n",
    "#odnosno da li zadaju isto projektivno preslikavanje\n",
    "print('Da li dobijamo proporcionalne matrice:')\n",
    "print(np.around(P / P[1, 1] * Pnaive[1, 1], 5))"
   ]
  },
  {
   "cell_type": "code",
   "execution_count": 12,
   "metadata": {},
   "outputs": [],
   "source": [
    "def normalizacija(tacke):\n",
    "    n = len(tacke)\n",
    "    \n",
    "    #izracunavamo afino teziste sistema\n",
    "    tx = 0\n",
    "    ty = 0\n",
    "    for i in range(n):\n",
    "        tx += float(tacke[i][0]/tacke[i][2])\n",
    "        ty += float(tacke[i][1]/tacke[i][2])\n",
    "        \n",
    "    teziste = np.array([tx, ty])\n",
    "    teziste = teziste * np.array([1/n, 1/n])\n",
    "    \n",
    "    #dobijamo matricu translacije tako sto\n",
    "    #transliramo teziste u koordinatni pocetak\n",
    "    G = np.matrix([\n",
    "        [1, 0, -teziste[0]],\n",
    "        [0, 1, -teziste[1]],\n",
    "        [0, 0, 1]\n",
    "    ])\n",
    "    \n",
    "    #skaliranje tacaka tako da prosecna udaljenost\n",
    "    #od koordinatnog pocetka bude sqrt(2)\n",
    "    distance = 0\n",
    "    for i in range(n):\n",
    "        distance += math.sqrt((tacke[i][0]/tacke[i][2] - teziste[0])**2+(tacke[i][1]/tacke[i][2] - teziste[1])**2)    \n",
    "    distance /= n\n",
    "    \n",
    "    k = np.sqrt(2) / distance * 1.0\n",
    "    \n",
    "    #dobijamo matricu homotetije S kojom se skaliraju tacke\n",
    "    S = np.matrix([[k, 0, 0],\n",
    "                   [0, k, 0],\n",
    "                   [0, 0, 1]])\n",
    "    \n",
    "    #matrica normalizacije T = S*G\n",
    "    T = np.dot(S, G)\n",
    "    \n",
    "    return np.array(T)"
   ]
  },
  {
   "cell_type": "code",
   "execution_count": 13,
   "metadata": {},
   "outputs": [
    {
     "name": "stdout",
     "output_type": "stream",
     "text": [
      "[[0.4496856  0.         0.57459826]\n",
      " [0.         0.4496856  0.09993013]\n",
      " [0.         0.         1.        ]]\n"
     ]
    }
   ],
   "source": [
    "print(normalizacija(tacke))"
   ]
  },
  {
   "cell_type": "code",
   "execution_count": 14,
   "metadata": {},
   "outputs": [],
   "source": [
    "def normalizovani_dlt(tacke, tacke_p):\n",
    "    n = len(tacke)\n",
    "    \n",
    "    #normalizujemo tacke originale i njihove slike\n",
    "    T = normalizacija(tacke)\n",
    "    Tp = normalizacija(tacke_p)\n",
    " \n",
    "    #primenimo matricu normalizacije na svaku tacku T*tacke[i]\n",
    "    nove_tacke = copy.deepcopy(tacke)\n",
    "    nove_tacke_p = copy.deepcopy(tacke_p)\n",
    "    for i in range(n):\n",
    "        [x, y, z] = np.dot(T, [tacke[i][0], tacke[i][1], tacke[i][2]]) \n",
    "        nove_tacke[i][0] = x\n",
    "        nove_tacke[i][1] = y\n",
    "        nove_tacke[i][2] = z\n",
    "\n",
    "    #isto uradimo i za slike Tp*tacke_p[i]\n",
    "    for i in range(n):\n",
    "        [x, y, z] = np.dot(Tp, [tacke_p[i][0], tacke_p[i][1], tacke_p[i][2]]) \n",
    "        nove_tacke_p[i][0] = x\n",
    "        nove_tacke_p[i][1] = y\n",
    "        nove_tacke_p[i][2] = z\n",
    "        \n",
    "    #odredjujemo matricu Pp dlt algoritmom primenjenim na normalizovane tacke\n",
    "    Pp = dlt_algoritam(nove_tacke, nove_tacke_p)\n",
    "    \n",
    "    #matrica transformacije P = Tp^-1 * P * T\n",
    "    P = np.dot(np.dot(np.linalg.inv(Tp), Pp), T)\n",
    "    \n",
    "    return P"
   ]
  },
  {
   "cell_type": "code",
   "execution_count": 15,
   "metadata": {},
   "outputs": [
    {
     "name": "stdout",
     "output_type": "stream",
     "text": [
      "Normalizovani Dlt:\n",
      "[[-3.97002511e-01 -3.72227716e-16  1.11022302e-16]\n",
      " [-4.10609963e-17 -3.97002511e-01  1.98501255e-01]\n",
      " [ 1.24812826e-16  1.98501255e-01 -3.97002511e-01]]\n",
      "Normalizovani dlt zaokruzen na 5 decimala:\n",
      "[[-0.397  -0.      0.    ]\n",
      " [-0.     -0.397   0.1985]\n",
      " [ 0.      0.1985 -0.397 ]]\n",
      "Da li je preslikavanje proporcionalno:\n",
      "[[ 2.  0. -0.]\n",
      " [ 0.  2. -1.]\n",
      " [-0. -1.  2.]]\n"
     ]
    }
   ],
   "source": [
    "D = normalizovani_dlt(tacke, tacke_p)\n",
    "print('Normalizovani Dlt:')\n",
    "print(D)\n",
    "print('Normalizovani dlt zaokruzen na 5 decimala:')\n",
    "print(np.around(D, 5))\n",
    "print('Da li je preslikavanje proporcionalno:')\n",
    "print(np.around(D / D[1, 1] * Pnaive[1, 1]))"
   ]
  },
  {
   "cell_type": "code",
   "execution_count": 16,
   "metadata": {},
   "outputs": [],
   "source": [
    "def poredjenje():\n",
    "    #poredjenje Naivnog i DLT algoritma sa 4 korespodencije\n",
    "    a = [1, 1, 1]\n",
    "    b = [5, 2, 1]\n",
    "    c = [6, 4, 1]\n",
    "    d = [-1, 7, 1]\n",
    "    ap = [0, 0, 1]\n",
    "    bp = [10, 0, 1]\n",
    "    cp = [10, 5, 1]\n",
    "    dp = [0, 5, 1]\n",
    "    tacke = np.array([a, b, c, d])\n",
    "    tacke_p =  np.array([ap, bp, cp, dp])\n",
    "    \n",
    "    Anaive = naivni_algoritam(tacke, tacke_p)\n",
    "    Adlt = dlt_algoritam(tacke, tacke_p)\n",
    "    \n",
    "    print('POREDIMO NAIVNI I DLT')\n",
    "    print('Naivni algoritam:')\n",
    "    print(Anaive)\n",
    "    print('Dlt algoritam:')\n",
    "    print(Adlt)\n",
    "    print('Da li su matrice proporcionalne:')\n",
    "    print(Adlt / Adlt[1, 1] * Anaive[1, 1])\n",
    "    print()\n",
    "    \n",
    "    #dodajemo 5. tacku\n",
    "    e = [3, 1, 1]\n",
    "    ep = [3, -1, 1]\n",
    "    tacke = np.array([a, b, c, d, e])\n",
    "    tacke_p =  np.array([ap, bp, cp, dp, ep])\n",
    "    \n",
    "    Adlt5 = dlt_algoritam(tacke, tacke_p)\n",
    "    Bdlt5 = dlt_algoritam([a, c, b, d, e], [ap, cp, bp, dp, ep])\n",
    "    \n",
    "    print('OSOBINE DLT ALGORITMA')\n",
    "    print('Dlt sa 4 tacke:')\n",
    "    print(Adlt)\n",
    "    print('Dlt sa 5 tacaka:')\n",
    "    print(Adlt5)\n",
    "    print('Da li je osetljiv na permutaciju odredjenih tacaka (menjamo b i c):')\n",
    "    print(Bdlt5)\n",
    "    print()\n",
    "    \n",
    "    #da li je DLT invarijantan na promenu koordinata\n",
    "    #kada izaberemo razlicite koordinate istih tacaka\n",
    "    #npr stavimo koordinatni pocetak u centar slike umesto u gornji levi ugao\n",
    "    \n",
    "    #matrica transformacije koordinata originala\n",
    "    T = np.array([[0, 1, 2], [-1, 0, 3], [0, 0, 1]])\n",
    "    #matrica transformacije koordinata slika\n",
    "    Tp = np.array([[1, -1, 5], [1, 1, -2], [0, 0, 1]])\n",
    "\n",
    "    #dobijamo nove koordinate originala i slika\n",
    "    #primenom trasformacija T i Tp na stare tacke\n",
    "    nove_tacke = []\n",
    "    nove_tacke_p = []\n",
    "    for i in range(len(tacke)):\n",
    "        nove_tacke.append(np.dot(T, tacke[i]))\n",
    "        nove_tacke_p.append(np.dot(Tp, tacke_p[i]))\n",
    "    \n",
    "    P_stare = dlt_algoritam(tacke, tacke_p)\n",
    "    P_nove = dlt_algoritam(nove_tacke, nove_tacke_p)\n",
    "    \n",
    "    #stari dlt u novim koordinatama Tp^-1 * P_nove * T\n",
    "    P_tmp = np.dot(np.dot(np.linalg.inv(Tp), P_nove), T)\n",
    "    \n",
    "    print(\"DA LI JE DLT INVARIJANTAN NA PROMENU KOORDINATA\")\n",
    "    print(\"Dlt matrica starih tacaka\")\n",
    "    print(P_stare)\n",
    "    print(\"Dlt matrica novih tacaka:\")\n",
    "    print(P_nove)\n",
    "    print(\"Matrica starih tacaka u novim koordinatama: \")\n",
    "    print(P_tmp)\n",
    "    P_tmp = (P_tmp/P_tmp[0][0])*P_stare[0][0]\n",
    "    #pojavljuje se razlika na drugoj decimali, nije invarijantan\n",
    "    print('Reskaliramo matrice:')\n",
    "    print(P_tmp)\n",
    "    print()\n",
    "    \n",
    "    #poredimo modifikovani dlt i dlt\n",
    "    Adlt = dlt_algoritam(tacke, tacke_p)\n",
    "    AdltNorm = normalizovani_dlt(tacke, tacke_p)\n",
    "    P_stare = normalizovani_dlt(tacke, tacke_p)\n",
    "    P_nove = normalizovani_dlt(nove_tacke, nove_tacke_p)\n",
    "    print(\"POREDIMO MODIFIKOVANI DLT I DLT:\")\n",
    "    print(\"Dlt algoritam: \")\n",
    "    print(Adlt)\n",
    "    print(\"Normalizovani dlt algoritam:\")\n",
    "    print(AdltNorm)\n",
    "    #skaliramo da uporedimo rzultate\n",
    "    print('Skalirano:')\n",
    "    print(Adlt / Adlt[1][1] * AdltNorm[1][1])\n",
    "    print()\n",
    "\n",
    "    # proveravamo da li je rezultat modifikovanog dlt algoritma \n",
    "    # prrimenjenog na nove koordinate isti kao rezultat\n",
    "    # starog u novim koordinatama\n",
    "    \n",
    "    #vracamo u stari koordinatni sistem\n",
    "    P_tmp= np.dot(np.dot(np.linalg.inv(Tp), P_nove), T)\n",
    "    print(\"DA LI MODIFIKOVANI DLT ZAVISI OD IZBORA KOORDINATA\")\n",
    "    print('Normalizovani dlt sa starim koordinatama:')\n",
    "    print(P_stare)\n",
    "    print(\"Normalizovani dlt u novim koordinatama:\")\n",
    "    print(P_nove)\n",
    "    print(\"Normalizovani dlt starih tacaka u novim koordinatama: \")\n",
    "    print(P_tmp)\n",
    "    print(\"Skaliramo da uporedimo:\")\n",
    "    print(P_stare / P_stare[1][1] * P_tmp[1][1])\n"
   ]
  },
  {
   "cell_type": "code",
   "execution_count": 17,
   "metadata": {
    "scrolled": true
   },
   "outputs": [
    {
     "name": "stdout",
     "output_type": "stream",
     "text": [
      "POREDIMO NAIVNI I DLT\n",
      "Naivni algoritam:\n",
      "[[ 0.44871795  0.14957265 -0.5982906 ]\n",
      " [-0.19230769  0.76923077 -0.57692308]\n",
      " [-0.07277526  0.07378079  0.41075918]]\n",
      "Dlt algoritam:\n",
      "[[ 0.3418787   0.11395957 -0.45583826]\n",
      " [-0.14651944  0.58607777 -0.43955833]\n",
      " [-0.05544755  0.05621367  0.31295787]]\n",
      "Da li su matrice proporcionalne:\n",
      "[[ 0.44871795  0.14957265 -0.5982906 ]\n",
      " [-0.19230769  0.76923077 -0.57692308]\n",
      " [-0.07277526  0.07378079  0.41075918]]\n",
      "\n",
      "OSOBINE DLT ALGORITMA\n",
      "Dlt sa 4 tacke:\n",
      "[[ 0.3418787   0.11395957 -0.45583826]\n",
      " [-0.14651944  0.58607777 -0.43955833]\n",
      " [-0.05544755  0.05621367  0.31295787]]\n",
      "Dlt sa 5 tacaka:\n",
      "[[ 0.34349761  0.11823681 -0.48379032]\n",
      " [-0.15246704  0.58506938 -0.39503374]\n",
      " [-0.05732138  0.05556327  0.32557538]]\n",
      "Da li je osetljiv na permutaciju odredjenih tacaka (menjamo b i c):\n",
      "[[-0.34349761 -0.11823681  0.48379032]\n",
      " [ 0.15246704 -0.58506938  0.39503374]\n",
      " [ 0.05732138 -0.05556327 -0.32557538]]\n",
      "\n",
      "DA LI JE DLT INVARIJANTAN NA PROMENU KOORDINATA\n",
      "Dlt matrica starih tacaka\n",
      "[[ 0.34349761  0.11823681 -0.48379032]\n",
      " [-0.15246704  0.58506938 -0.39503374]\n",
      " [-0.05732138  0.05556327  0.32557538]]\n",
      "Dlt matrica novih tacaka:\n",
      "[[ 0.06010424  0.0640095  -0.79858705]\n",
      " [-0.18371454  0.09410446  0.55779158]\n",
      " [-0.01718182 -0.01798283 -0.01386567]]\n",
      "Matrica starih tacaka u novim koordinatama: \n",
      "[[-0.10603123 -0.03603242  0.14642964]\n",
      " [ 0.04789244 -0.18204577  0.12189059]\n",
      " [ 0.01798283 -0.01718182 -0.10217783]]\n",
      "Reskaliramo matrice:\n",
      "[[ 0.34349761  0.11673022 -0.47437184]\n",
      " [-0.15515182  0.58975349 -0.39487542]\n",
      " [-0.05825699  0.05566205  0.33101416]]\n",
      "\n",
      "POREDIMO MODIFIKOVANI DLT I DLT:\n",
      "Dlt algoritam: \n",
      "[[ 0.34349761  0.11823681 -0.48379032]\n",
      " [-0.15246704  0.58506938 -0.39503374]\n",
      " [-0.05732138  0.05556327  0.32557538]]\n",
      "Normalizovani dlt algoritam:\n",
      "[[ 0.18459418 -0.11416972 -0.17435457]\n",
      " [ 0.04032504 -0.51973054  1.44628152]\n",
      " [ 0.0224028  -0.28873919  0.80348974]]\n",
      "Skalirano:\n",
      "[[-0.3051368  -0.10503247  0.42976203]\n",
      " [ 0.13543997 -0.51973054  0.35091753]\n",
      " [ 0.0509199  -0.04935812 -0.28921608]]\n",
      "\n",
      "DA LI MODIFIKOVANI DLT ZAVISI OD IZBORA KOORDINATA\n",
      "Normalizovani dlt sa starim koordinatama:\n",
      "[[ 0.18459418 -0.11416972 -0.17435457]\n",
      " [ 0.04032504 -0.51973054  1.44628152]\n",
      " [ 0.0224028  -0.28873919  0.80348974]]\n",
      "Normalizovani dlt u novim koordinatama:\n",
      "[[-1.62540163  1.19895252  7.88721764]\n",
      " [-2.17493372  1.46755326 10.58115794]\n",
      " [-0.31448015  0.15371186  1.54165836]]\n",
      "Normalizovani dlt starih tacaka u novim koordinatama: \n",
      "[[-1.1026851  -1.42844745  7.37286064]\n",
      " [-0.67229189 -1.37544656  6.00875696]\n",
      " [-0.15371186 -0.31448015  1.37383365]]\n",
      "Skaliramo da uporedimo:\n",
      "[[ 0.48852129 -0.30214569 -0.46142256]\n",
      " [ 0.10671863 -1.37544656  3.82752751]\n",
      " [ 0.05928813 -0.76413698  2.12640417]]\n"
     ]
    }
   ],
   "source": [
    "poredjenje()"
   ]
  },
  {
   "cell_type": "code",
   "execution_count": 18,
   "metadata": {},
   "outputs": [],
   "source": [
    "def unos_koordinata(n):\n",
    "    koordinate = np.zeros((n, 3))\n",
    "    for i in range(n):\n",
    "        koordinate[i][0] = int(input(\"Unesite x koordinatu:\"))\n",
    "        koordinate[i][1] = int(input(\"Unesite y koordinatu:\"))\n",
    "        koordinate[i][2] = int(input(\"Unesite z koordinatu:\"))\n",
    "        \n",
    "    return koordinate"
   ]
  },
  {
   "cell_type": "code",
   "execution_count": 48,
   "metadata": {},
   "outputs": [],
   "source": [
    "def ispravljanje_distorzije():\n",
    "    slika = Image.open('tower.jpg')\n",
    "    slika.show()\n",
    "    dimenzije = slika.size\n",
    "    #pravimo crnu sliku \n",
    "    nova_slika = Image.new('RGB', dimenzije, 'black')\n",
    "\n",
    "    #dobijamo stare i nove pixele\n",
    "    stari_pixel = slika.load()\n",
    "    novi_pixel = nova_slika.load()\n",
    "    \n",
    "    #korisnik bira algoritam\n",
    "    tip_algoritma = input(\"Koji algoritam zelite da koristite? (dlt/naivni)\")\n",
    "\n",
    "    #korisnik unosi koordinate\n",
    "    tacke = unos_koordinata(4)\n",
    "\n",
    "    A = tacke[0]\n",
    "    B = tacke[1]\n",
    "    C = tacke[2]\n",
    "    D = tacke[3]\n",
    "\n",
    "    AD = math.sqrt((A[0]-D[0])**2 +(A[1]-D[1])**2)\n",
    "    BC = math.sqrt((B[0]-C[0])**2 +(B[1]-C[1])**2)\n",
    "\n",
    "    AB = math.sqrt((A[0]-B[0])**2 +(A[1]-B[1])**2)\n",
    "    DC = math.sqrt((D[0]-C[0])**2 +(D[1]-C[1])**2)\n",
    "\n",
    "    vertikalna_sredina = (AD + BC)/2\n",
    "    horizontalna_sredina = (AB + DC)/2\n",
    "\n",
    "    # koordinate slika odredjujemo na osnovu prosecne duzine vertikalnih i horizontalnih duzi\n",
    "    # gornja leva tacka ostaje ista, a ostale se racunaju tako da obrazuju pravougaonik \n",
    "    # i da su udaljene od te tacke za prosecnu duzinu\n",
    "    tacke_p = [[A[0],A[1],1],\n",
    "               [A[0]+horizontalna_sredina, A[1], 1], \n",
    "               [A[0]+horizontalna_sredina,A[1]+vertikalna_sredina, 1], \n",
    "               [A[0], A[1]+vertikalna_sredina,1]]\n",
    "\n",
    "    if(tip_algoritma == \"dlt\"):\n",
    "        P = dlt_algoritam(tacke, tacke_p)\n",
    "        P = np.linalg.inv(P)\n",
    "    else:\n",
    "        P = naivni_algoritam(tacke, tacke_p)\n",
    "        P = np.linalg.inv(P)\n",
    "\n",
    "    #za svaku koordinatu nove slike odredjujemo koordinate originalne slike i \n",
    "    #vrednost pixela na novoj slici je jednak vrednosti pixela koji se nalazi\n",
    "    #na koordinatama stare slike\n",
    "    for i in range(dimenzije[0]):\n",
    "        for j in range(dimenzije[1]):\n",
    "            nove = np.dot(P, [i,j,1])\n",
    "\n",
    "            x = round(nove[0] / nove[2])\n",
    "            y = round(nove[1] / nove[2])\n",
    "\n",
    "            if (x<0 or x>=dimenzije[0]) or (y<0 or y>=dimenzije[1]):\n",
    "                continue\n",
    "            else:\n",
    "                novi_pixel[i,j] = stari_pixel[x,y]\n",
    "            \n",
    "    nova_slika.save(\"slika.bmp\")\n",
    "    nova_slika.show()"
   ]
  },
  {
   "cell_type": "code",
   "execution_count": 49,
   "metadata": {},
   "outputs": [
    {
     "name": "stdout",
     "output_type": "stream",
     "text": [
      "Koji algoritam zelite da koristite? (dlt/naivni)dlt\n",
      "Unesite x koordinatu:200\n",
      "Unesite y koordinatu:150\n",
      "Unesite z koordinatu:1\n",
      "Unesite x koordinatu:550\n",
      "Unesite y koordinatu:65\n",
      "Unesite z koordinatu:1\n",
      "Unesite x koordinatu:550\n",
      "Unesite y koordinatu:450\n",
      "Unesite z koordinatu:1\n",
      "Unesite x koordinatu:200\n",
      "Unesite y koordinatu:400\n",
      "Unesite z koordinatu:1\n"
     ]
    }
   ],
   "source": [
    "ispravljanje_distorzije()"
   ]
  },
  {
   "cell_type": "code",
   "execution_count": 21,
   "metadata": {},
   "outputs": [],
   "source": [
    "a=[-3,2,1]\n",
    "b=[-2,5,2]\n",
    "c=[1,0,3]\n",
    "d=[-7,3,1]\n",
    "e=[2,1,2]\n",
    "f=[-1,2,1]\n",
    "g=[1,1,1]"
   ]
  },
  {
   "cell_type": "code",
   "execution_count": 22,
   "metadata": {},
   "outputs": [],
   "source": [
    "ap = [11,-12,7]\n",
    "bp = [25,-8,9]\n",
    "cp = [15,4,17]\n",
    "dp = [14,-28,10]\n",
    "ep=[13,8,9]\n",
    "fp=[11,-4,5]\n",
    "gp=[8.02,4,4]\n",
    "originali = [a, b, c, d, e, f, g]\n",
    "slike = [ap, bp, cp, dp, ep, fp, gp]"
   ]
  },
  {
   "cell_type": "code",
   "execution_count": 47,
   "metadata": {},
   "outputs": [
    {
     "data": {
      "text/plain": [
       "array([[ 1.23430677e-15,  3.00000000e+00,  5.00000000e+00],\n",
       "       [ 4.00000000e+00, -2.08983158e-16, -4.01639506e-16],\n",
       "       [-1.00000000e+00, -1.00000000e+00,  6.00000000e+00]])"
      ]
     },
     "execution_count": 47,
     "metadata": {},
     "output_type": "execute_result"
    }
   ],
   "source": [
    "np.around(naivni_algoritam([a, b, c, d], [ap, bp, cp, dp]), 5)\n",
    "naivni = naivni_algoritam([a, b, c, d], [ap, bp, cp, dp])\n",
    "naivni"
   ]
  },
  {
   "cell_type": "code",
   "execution_count": 24,
   "metadata": {},
   "outputs": [
    {
     "data": {
      "text/plain": [
       "array([[ 5.30528511e-05,  3.20011319e-01,  5.32929220e-01],\n",
       "       [ 4.26445525e-01, -2.02187024e-05, -2.95145391e-05],\n",
       "       [-1.06595323e-01, -1.06519060e-01,  6.39542445e-01]])"
      ]
     },
     "execution_count": 24,
     "metadata": {},
     "output_type": "execute_result"
    }
   ],
   "source": [
    "dlt = dlt_algoritam(originali, slike)\n",
    "dlt"
   ]
  },
  {
   "cell_type": "code",
   "execution_count": 25,
   "metadata": {},
   "outputs": [],
   "source": [
    "m = dlt / dlt[0, 1] * 3"
   ]
  },
  {
   "cell_type": "code",
   "execution_count": 26,
   "metadata": {},
   "outputs": [
    {
     "data": {
      "text/plain": [
       "array([[ 4.97352886e-04,  3.00000000e+00,  4.99603472e+00],\n",
       "       [ 3.99778538e+00, -1.89543630e-04, -2.76689017e-04],\n",
       "       [-9.99295809e-01, -9.98580867e-01,  5.99549835e+00]])"
      ]
     },
     "execution_count": 26,
     "metadata": {},
     "output_type": "execute_result"
    }
   ],
   "source": [
    "m"
   ]
  },
  {
   "cell_type": "code",
   "execution_count": 27,
   "metadata": {},
   "outputs": [
    {
     "data": {
      "text/plain": [
       "array([[ 0.,  3.,  5.],\n",
       "       [ 4., -0., -0.],\n",
       "       [-1., -1.,  6.]])"
      ]
     },
     "execution_count": 27,
     "metadata": {},
     "output_type": "execute_result"
    }
   ],
   "source": [
    "np.around(m, 2)"
   ]
  },
  {
   "cell_type": "code",
   "execution_count": 28,
   "metadata": {},
   "outputs": [
    {
     "data": {
      "text/plain": [
       "array([[ 3.89785465e-05,  2.34697334e-01,  3.90851376e-01],\n",
       "       [ 3.12756187e-01, -1.48613871e-05, -2.16907546e-05],\n",
       "       [-7.81772458e-02, -7.81212009e-02,  4.69041798e-01]])"
      ]
     },
     "execution_count": 28,
     "metadata": {},
     "output_type": "execute_result"
    }
   ],
   "source": [
    "ndlt = normalizovani_dlt(originali, slike)\n",
    "ndlt"
   ]
  },
  {
   "cell_type": "code",
   "execution_count": 29,
   "metadata": {},
   "outputs": [],
   "source": [
    "nm = ndlt / ndlt[0, 1] * 3"
   ]
  },
  {
   "cell_type": "code",
   "execution_count": 30,
   "metadata": {},
   "outputs": [
    {
     "data": {
      "text/plain": [
       "array([[ 4.98240170e-04,  3.00000000e+00,  4.99602662e+00],\n",
       "       [ 3.99778107e+00, -1.89964499e-04, -2.77260345e-04],\n",
       "       [-9.99294424e-01, -9.98578036e-01,  5.99548946e+00]])"
      ]
     },
     "execution_count": 30,
     "metadata": {},
     "output_type": "execute_result"
    }
   ],
   "source": [
    "nm"
   ]
  },
  {
   "cell_type": "code",
   "execution_count": 31,
   "metadata": {},
   "outputs": [],
   "source": [
    "cc=[[0,1,2],[-1,0,3],[0,0,1]]"
   ]
  },
  {
   "cell_type": "code",
   "execution_count": 32,
   "metadata": {},
   "outputs": [],
   "source": [
    "norig = []\n",
    "nslike = []\n",
    "for i in range(len(originali)):\n",
    "    norig.append(np.dot(cc, originali[i]))\n",
    "    nslike.append(np.dot(cc, slike[i]))"
   ]
  },
  {
   "cell_type": "code",
   "execution_count": 33,
   "metadata": {},
   "outputs": [],
   "source": [
    "m1 = dlt_algoritam(norig, nslike)"
   ]
  },
  {
   "cell_type": "code",
   "execution_count": 34,
   "metadata": {},
   "outputs": [],
   "source": [
    "m1s = np.dot(np.dot(np.linalg.inv(cc), m1), cc)"
   ]
  },
  {
   "cell_type": "code",
   "execution_count": 35,
   "metadata": {},
   "outputs": [
    {
     "data": {
      "text/plain": [
       "array([[-1.73564676e-05, -1.04847554e-01, -1.74607666e-01],\n",
       "       [-1.39719503e-01,  6.61760914e-06,  9.63372330e-06],\n",
       "       [ 3.49246285e-02,  3.48997143e-02, -2.09538156e-01]])"
      ]
     },
     "execution_count": 35,
     "metadata": {},
     "output_type": "execute_result"
    }
   ],
   "source": [
    "m1s"
   ]
  },
  {
   "cell_type": "code",
   "execution_count": 36,
   "metadata": {},
   "outputs": [],
   "source": [
    "mm = m1s / m1s[0, 1] * 3"
   ]
  },
  {
   "cell_type": "code",
   "execution_count": 37,
   "metadata": {},
   "outputs": [
    {
     "data": {
      "text/plain": [
       "array([[ 4.96620099e-04,  3.00000000e+00,  4.99604404e+00],\n",
       "       [ 3.99779004e+00, -1.89349457e-04, -2.75649443e-04],\n",
       "       [-9.99297373e-01, -9.98584504e-01,  5.99550913e+00]])"
      ]
     },
     "execution_count": 37,
     "metadata": {},
     "output_type": "execute_result"
    }
   ],
   "source": [
    "mm"
   ]
  },
  {
   "cell_type": "code",
   "execution_count": 38,
   "metadata": {},
   "outputs": [
    {
     "data": {
      "text/plain": [
       "array([[ 4.97352886e-04,  3.00000000e+00,  4.99603472e+00],\n",
       "       [ 3.99778538e+00, -1.89543630e-04, -2.76689017e-04],\n",
       "       [-9.99295809e-01, -9.98580867e-01,  5.99549835e+00]])"
      ]
     },
     "execution_count": 38,
     "metadata": {},
     "output_type": "execute_result"
    }
   ],
   "source": [
    "m"
   ]
  },
  {
   "cell_type": "code",
   "execution_count": 39,
   "metadata": {},
   "outputs": [],
   "source": [
    "m2 = normalizovani_dlt(norig, nslike)"
   ]
  },
  {
   "cell_type": "code",
   "execution_count": 40,
   "metadata": {},
   "outputs": [
    {
     "data": {
      "text/plain": [
       "array([[ 0.16005754, -0.20193015, -0.06045275],\n",
       "       [-0.43635812, -0.24554245,  0.21376057],\n",
       "       [ 0.12937776,  0.02404026, -0.1657667 ]])"
      ]
     },
     "execution_count": 40,
     "metadata": {},
     "output_type": "execute_result"
    }
   ],
   "source": [
    "m2s = np.dot(np.dot(np.linalg.inv(cc), m2), cc)\n",
    "m2s"
   ]
  },
  {
   "cell_type": "code",
   "execution_count": 41,
   "metadata": {},
   "outputs": [
    {
     "data": {
      "text/plain": [
       "array([[-2.37791436,  3.        ,  0.89812363],\n",
       "       [ 6.48280767,  3.64793139, -3.17575996],\n",
       "       [-1.92211656, -0.35715713,  2.46273322]])"
      ]
     },
     "execution_count": 41,
     "metadata": {},
     "output_type": "execute_result"
    }
   ],
   "source": [
    "nm2 = m2s / m2s[0, 1] * 3\n",
    "nm2"
   ]
  },
  {
   "cell_type": "code",
   "execution_count": 42,
   "metadata": {},
   "outputs": [
    {
     "data": {
      "text/plain": [
       "array([[ 4.98240170e-04,  3.00000000e+00,  4.99602662e+00],\n",
       "       [ 3.99778107e+00, -1.89964499e-04, -2.77260345e-04],\n",
       "       [-9.99294424e-01, -9.98578036e-01,  5.99548946e+00]])"
      ]
     },
     "execution_count": 42,
     "metadata": {},
     "output_type": "execute_result"
    }
   ],
   "source": [
    "nm"
   ]
  },
  {
   "cell_type": "code",
   "execution_count": 43,
   "metadata": {},
   "outputs": [],
   "source": [
    "def test_algoritama(originali, slike):\n",
    "    originali_naivni = originali[:4]\n",
    "    slike_naivni = slike[:4]\n",
    "    print('Naivni algoritam:')\n",
    "    print(naivni_algoritam(originali_naivni, slike_naivni))\n",
    "    print()\n",
    "    print('Dlt algoritam:')\n",
    "    dlt = dlt_algoritam(originali, slike)\n",
    "    print(dlt)\n",
    "    print()\n",
    "    ndlt = normalizovani_dlt(originali, slike)\n",
    "    print('Modifikovani dlt:')\n",
    "    print(ndlt)"
   ]
  },
  {
   "cell_type": "code",
   "execution_count": 44,
   "metadata": {},
   "outputs": [
    {
     "name": "stdout",
     "output_type": "stream",
     "text": [
      "Naivni algoritam:\n",
      "[[ 1.23430677e-15  3.00000000e+00  5.00000000e+00]\n",
      " [ 4.00000000e+00 -2.08983158e-16 -4.01639506e-16]\n",
      " [-1.00000000e+00 -1.00000000e+00  6.00000000e+00]]\n",
      "\n",
      "Dlt algoritam:\n",
      "[[ 5.30528511e-05  3.20011319e-01  5.32929220e-01]\n",
      " [ 4.26445525e-01 -2.02187024e-05 -2.95145391e-05]\n",
      " [-1.06595323e-01 -1.06519060e-01  6.39542445e-01]]\n",
      "\n",
      "Modifikovani dlt:\n",
      "[[ 3.89785465e-05  2.34697334e-01  3.90851376e-01]\n",
      " [ 3.12756187e-01 -1.48613871e-05 -2.16907546e-05]\n",
      " [-7.81772458e-02 -7.81212009e-02  4.69041798e-01]]\n"
     ]
    }
   ],
   "source": [
    "test_algoritama(originali, slike)"
   ]
  },
  {
   "cell_type": "code",
   "execution_count": null,
   "metadata": {},
   "outputs": [],
   "source": []
  }
 ],
 "metadata": {
  "kernelspec": {
   "display_name": "Python 3",
   "language": "python",
   "name": "python3"
  },
  "language_info": {
   "codemirror_mode": {
    "name": "ipython",
    "version": 3
   },
   "file_extension": ".py",
   "mimetype": "text/x-python",
   "name": "python",
   "nbconvert_exporter": "python",
   "pygments_lexer": "ipython3",
   "version": "3.6.8"
  }
 },
 "nbformat": 4,
 "nbformat_minor": 2
}
